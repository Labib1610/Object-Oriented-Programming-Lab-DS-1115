{
 "cells": [
  {
   "cell_type": "code",
   "execution_count": 29,
   "id": "4b8d7d43",
   "metadata": {},
   "outputs": [],
   "source": [
    "class Course:\n",
    "    def __init__(self, code, title, gpa, cred):\n",
    "        self.code = code\n",
    "        self.title = title \n",
    "        self.gpa = gpa \n",
    "        self.cred = cred\n",
    "    \n",
    "    def __str__(self):\n",
    "        return f\"{self.code}: {self.title}\""
   ]
  },
  {
   "cell_type": "code",
   "execution_count": 30,
   "id": "51e76b0f",
   "metadata": {},
   "outputs": [],
   "source": [
    "class Student:\n",
    "    def __init__(self, name, sid):\n",
    "        self.name = name\n",
    "        self.sid = sid\n",
    "        self.courses = []\n",
    "        \n",
    "    def add_course(self, course):\n",
    "        self.courses.append(course)\n",
    "        \n",
    "    def display_courses(self):\n",
    "        print(f\"{self.name} has taken the following courses:\")\n",
    "        for course in self.courses:\n",
    "            print(course)"
   ]
  },
  {
   "cell_type": "code",
   "execution_count": 31,
   "id": "5c739822",
   "metadata": {},
   "outputs": [
    {
     "name": "stdout",
     "output_type": "stream",
     "text": [
      "Rahat has taken the following courses:\n",
      "DS 1116: Python OOP\n",
      "ENG 1012: Eng 2\n"
     ]
    }
   ],
   "source": [
    "pyoop = Course(\"DS 1116\", \"Python OOP\", 0.00, 1.00)\n",
    "eng2 = Course(\"ENG 1012\", \"Eng 2\", 0.00, 3.00)\n",
    "\n",
    "s1 = Student(\"Rahat\", \"010\")\n",
    "s2 = Student(\"Labib\", \"045\")\n",
    "\n",
    "s1.add_course(pyoop)\n",
    "s1.add_course(eng2)\n",
    "s1.display_courses()"
   ]
  },
  {
   "cell_type": "code",
   "execution_count": 32,
   "id": "99673589",
   "metadata": {},
   "outputs": [
    {
     "name": "stdout",
     "output_type": "stream",
     "text": [
      "DS 1116: Python OOP\n"
     ]
    }
   ],
   "source": [
    "print(pyoop)"
   ]
  },
  {
   "cell_type": "code",
   "execution_count": 40,
   "id": "83d48f8e",
   "metadata": {},
   "outputs": [],
   "source": [
    "class Date:\n",
    "    def __init__(self, day, month, year):\n",
    "        self.day = day\n",
    "        self.month = month\n",
    "        self.year = year\n",
    "    \n",
    "    def __str__(self):\n",
    "        return f\"{self.day}/{self.month}/{self.year}\"\n",
    "    \n",
    "    def copy(self):\n",
    "        return Date(self.day, self.month, self.year)"
   ]
  },
  {
   "cell_type": "code",
   "execution_count": 41,
   "id": "820d4381",
   "metadata": {},
   "outputs": [],
   "source": [
    "class Period:\n",
    "    def __init__(self, start, end):\n",
    "        self.start = start\n",
    "        self.end = end\n",
    "        \n",
    "    def __str__(self):\n",
    "        return f\"{self.start} - {self.end}\""
   ]
  },
  {
   "cell_type": "code",
   "execution_count": 43,
   "id": "feef9104",
   "metadata": {},
   "outputs": [
    {
     "name": "stdout",
     "output_type": "stream",
     "text": [
      "11/06/2024\n",
      "27/06/2024\n",
      "11/06/2024 - 27/06/2024\n",
      "11/06/2025\n"
     ]
    }
   ],
   "source": [
    "d1 = Date(\"11\", \"06\", \"2024\")\n",
    "d2 = Date(\"27\", \"06\", \"2024\")\n",
    "print(d1)\n",
    "print(d2)\n",
    "\n",
    "p = Period(d1.copy(), d2.copy())\n",
    "d1.year = \"2025\"\n",
    "\n",
    "print(p)\n",
    "print(d1)"
   ]
  },
  {
   "cell_type": "code",
   "execution_count": null,
   "id": "e5013525",
   "metadata": {},
   "outputs": [],
   "source": []
  }
 ],
 "metadata": {
  "kernelspec": {
   "display_name": "Python 3 (ipykernel)",
   "language": "python",
   "name": "python3"
  },
  "language_info": {
   "codemirror_mode": {
    "name": "ipython",
    "version": 3
   },
   "file_extension": ".py",
   "mimetype": "text/x-python",
   "name": "python",
   "nbconvert_exporter": "python",
   "pygments_lexer": "ipython3",
   "version": "3.11.4"
  }
 },
 "nbformat": 4,
 "nbformat_minor": 5
}
