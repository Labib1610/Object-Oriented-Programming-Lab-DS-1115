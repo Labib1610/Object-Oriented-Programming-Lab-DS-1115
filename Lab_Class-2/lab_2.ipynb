{
 "cells": [
  {
   "cell_type": "code",
   "execution_count": 1,
   "id": "9f2c9a00",
   "metadata": {},
   "outputs": [],
   "source": [
    "class Student:\n",
    "    def __init__(self, name=\"\", iden=\"\", semester=0, cgpa=0.00, present=0):\n",
    "        self.name = name\n",
    "        self.id = iden\n",
    "        self.semester = semester\n",
    "        self.cgpa = cgpa\n",
    "        self.present = present\n",
    "    \n",
    "    def study(self, duration=1):\n",
    "        print(f\"{self.name} studied for {duration} hours.\")\n",
    "        \n",
    "    def play(self, game):\n",
    "        print(f\"{self.name} plays {game}.\")\n",
    "        \n",
    "    def give_attendance(self):\n",
    "        self.present = self.present + 1"
   ]
  },
  {
   "cell_type": "code",
   "execution_count": 3,
   "id": "53bb2e4c",
   "metadata": {},
   "outputs": [
    {
     "name": "stdout",
     "output_type": "stream",
     "text": [
      "0\n",
      "4\n"
     ]
    }
   ],
   "source": [
    "student_1 = Student(name=\"Wadiel\", iden=\"048\", semester=2, cgpa=4.00)\n",
    "student_2 = Student(name=\"Shazid\", iden=\"015\", semester=2, cgpa=4.00)\n",
    "\n",
    "print(student_1.present)\n",
    "student_1.give_attendance()\n",
    "student_1.give_attendance()\n",
    "student_1.give_attendance()\n",
    "student_1.give_attendance()\n",
    "print(student_1.present)"
   ]
  },
  {
   "cell_type": "code",
   "execution_count": null,
   "id": "bec1b0bd",
   "metadata": {},
   "outputs": [],
   "source": []
  }
 ],
 "metadata": {
  "kernelspec": {
   "display_name": "Python 3 (ipykernel)",
   "language": "python",
   "name": "python3"
  },
  "language_info": {
   "codemirror_mode": {
    "name": "ipython",
    "version": 3
   },
   "file_extension": ".py",
   "mimetype": "text/x-python",
   "name": "python",
   "nbconvert_exporter": "python",
   "pygments_lexer": "ipython3",
   "version": "3.12.3"
  }
 },
 "nbformat": 4,
 "nbformat_minor": 5
}
