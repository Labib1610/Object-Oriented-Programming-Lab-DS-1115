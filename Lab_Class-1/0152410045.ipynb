{
 "cells": [
  {
   "cell_type": "markdown",
   "id": "60024b6a-d5d8-4812-aee2-f1c4a4c90c0e",
   "metadata": {},
   "source": [
    "# Task-1"
   ]
  },
  {
   "cell_type": "code",
   "execution_count": 2,
   "id": "3a851e46-12e4-416b-a3af-cd97c65c959f",
   "metadata": {},
   "outputs": [
    {
     "name": "stdout",
     "output_type": "stream",
     "text": [
      "{2: 1, 4: 2, 1: 2, 3: 1, 9: 1}\n"
     ]
    }
   ],
   "source": [
    "def element_frequency(lst):\n",
    "    dictionary = {}\n",
    "    for i in lst:\n",
    "        a = lst.count(i)\n",
    "        dictionary[i] = a\n",
    "    return dictionary\n",
    "print(element_frequency([2,4,4,1,1,3,9]))"
   ]
  },
  {
   "cell_type": "markdown",
   "id": "31ffdc3a-5f88-40e7-af2f-f7ed761d9dcf",
   "metadata": {},
   "source": [
    "# Task-2"
   ]
  },
  {
   "cell_type": "code",
   "execution_count": 4,
   "id": "dfd4bd55-fa47-4c00-8207-c43852cca71d",
   "metadata": {},
   "outputs": [
    {
     "name": "stdout",
     "output_type": "stream",
     "text": [
      "[1, 3, 6, 10, 15]\n"
     ]
    }
   ],
   "source": [
    "def running_total(lst):\n",
    "    lst2 =[]\n",
    "    count = 0\n",
    "    for i in range(len(lst)):\n",
    "        count = count+lst[i]\n",
    "        lst2.append(count)\n",
    "    return lst2\n",
    "print(running_total([1,2,3,4,5]))"
   ]
  },
  {
   "cell_type": "markdown",
   "id": "bd720d1e-8331-4122-a1b5-b8762191c68f",
   "metadata": {},
   "source": [
    "# Task-3"
   ]
  },
  {
   "cell_type": "code",
   "execution_count": 6,
   "id": "70c2df3f-e1d9-43a3-b3fd-a57c87255a47",
   "metadata": {},
   "outputs": [
    {
     "name": "stdout",
     "output_type": "stream",
     "text": [
      "progamin\n"
     ]
    }
   ],
   "source": [
    "def remove_duplicate_from_string(input_str):\n",
    "    lst = [i for i in input_str]\n",
    "    lst2 = []\n",
    "    for i in lst:\n",
    "        if i not in lst2:\n",
    "            lst2.append(i)\n",
    "    string = ''\n",
    "    for i in lst2:\n",
    "        string = string+i\n",
    "    return string\n",
    "print(remove_duplicate_from_string('programming'))"
   ]
  },
  {
   "cell_type": "markdown",
   "id": "47a153f2-f4a7-4439-a853-4e5d5b16bb55",
   "metadata": {},
   "source": [
    "# Task-4"
   ]
  },
  {
   "cell_type": "code",
   "execution_count": 8,
   "id": "1287d96f-03a8-4aa9-a521-dbc89f4d5e8b",
   "metadata": {},
   "outputs": [
    {
     "name": "stdout",
     "output_type": "stream",
     "text": [
      "True\n"
     ]
    }
   ],
   "source": [
    "def are_anagrams(word1,word2):\n",
    "    lst = [i for i in word1]\n",
    "    len_of_lst = len(lst)\n",
    "    count = 0\n",
    "    for i in word2:\n",
    "        if i in lst:\n",
    "            count = count+1\n",
    "            lst.remove(i)\n",
    "    if count == len_of_lst:\n",
    "        return True\n",
    "    else:\n",
    "        return False\n",
    "print(are_anagrams('silent','listen'))"
   ]
  },
  {
   "cell_type": "markdown",
   "id": "ba62e07d-bf24-490b-8bb2-e63f375616b7",
   "metadata": {},
   "source": [
    "# Task-5"
   ]
  },
  {
   "cell_type": "code",
   "execution_count": 21,
   "id": "d99c30a2-9bd4-4523-985a-328e7145a01c",
   "metadata": {},
   "outputs": [
    {
     "name": "stdout",
     "output_type": "stream",
     "text": [
      "['Hello', 'World']\n",
      "olleH dlroW\n"
     ]
    }
   ],
   "source": [
    "def reverse_words(sentence):\n",
    "    lst = sentence.split()\n",
    "    lst2 = []\n",
    "    for i in lst:\n",
    "        string = ''\n",
    "        for j in i:\n",
    "            string = j+string\n",
    "        lst2.append(string)\n",
    "    string2 = ' '.join(lst2)\n",
    "    return string2\n",
    "print(reverse_words('Hello World'))"
   ]
  },
  {
   "cell_type": "markdown",
   "id": "be92b157-6521-4087-b200-7df423676889",
   "metadata": {},
   "source": [
    "# Task-6"
   ]
  },
  {
   "cell_type": "code",
   "execution_count": 28,
   "id": "593d39ac-266c-4a2f-a407-960cd6e2b510",
   "metadata": {},
   "outputs": [
    {
     "name": "stdout",
     "output_type": "stream",
     "text": [
      "[1, 2, 3, 4, 5, 6]\n"
     ]
    }
   ],
   "source": [
    "def union_of_lists(lst1,lst2):\n",
    "    lst = []\n",
    "    for i in lst1:\n",
    "        if i not in lst:\n",
    "            lst.append(i)\n",
    "    for i in lst2:\n",
    "        if i not in lst:\n",
    "            lst.append(i)\n",
    "    return lst\n",
    "print(union_of_lists([1,2,3,4],[3,4,5,6]))"
   ]
  },
  {
   "cell_type": "markdown",
   "id": "d63011ad-7066-412e-bf01-53fa1c9441c4",
   "metadata": {},
   "source": [
    "# Task-7"
   ]
  },
  {
   "cell_type": "code",
   "execution_count": 31,
   "id": "f08a662f-f3a9-4a34-bfb1-c55668f5d75c",
   "metadata": {},
   "outputs": [
    {
     "name": "stdout",
     "output_type": "stream",
     "text": [
      "[3, 4]\n"
     ]
    }
   ],
   "source": [
    "def intersection_of_lists(lst1,lst2):\n",
    "    lst = []\n",
    "    for i in lst1:\n",
    "        if i in lst2:\n",
    "            lst.append(i)\n",
    "    return lst\n",
    "print(intersection_of_lists([1,2,3,4],[3,4,5,6]))"
   ]
  },
  {
   "cell_type": "markdown",
   "id": "b03add01-ad18-4ae1-94aa-f36b20669023",
   "metadata": {},
   "source": [
    "# Task-8"
   ]
  },
  {
   "cell_type": "code",
   "execution_count": 39,
   "id": "ec9a034d-eea3-4c01-9c44-0fe100305997",
   "metadata": {},
   "outputs": [
    {
     "name": "stdout",
     "output_type": "stream",
     "text": [
      "[1, 2, 3, 4, 5, 6]\n"
     ]
    }
   ],
   "source": [
    "def merge_sorted_lists(lst1,lst2):\n",
    "    for i in lst2:\n",
    "        lst1.append(i)\n",
    "    lst1.sort()\n",
    "    return lst1\n",
    "print(merge_sorted_lists([1,3,5],[2,4,6]))"
   ]
  },
  {
   "cell_type": "markdown",
   "id": "b7359862-16d7-4b8d-a768-e18dfccb8b4a",
   "metadata": {},
   "source": [
    "# Task-9"
   ]
  },
  {
   "cell_type": "code",
   "execution_count": 43,
   "id": "eaaaf59a-40df-45c5-b5a1-a79539e32015",
   "metadata": {},
   "outputs": [
    {
     "name": "stdout",
     "output_type": "stream",
     "text": [
      "3\n"
     ]
    }
   ],
   "source": [
    "def alternating_sign_sum(lst):\n",
    "    sum = 0\n",
    "    for i in range(len(lst)):\n",
    "        if i%2 == 0:\n",
    "            sum = sum+lst[i]\n",
    "        else:\n",
    "            sum = sum-lst[i]\n",
    "    return sum\n",
    "print(alternating_sign_sum([1,2,3,4,5]))"
   ]
  },
  {
   "cell_type": "markdown",
   "id": "c1841c13-4e57-4c44-af47-855a3b5cce23",
   "metadata": {},
   "source": [
    "# Task-10"
   ]
  },
  {
   "cell_type": "code",
   "execution_count": 2,
   "id": "e796f595-937d-44af-9cae-21f400beea6d",
   "metadata": {},
   "outputs": [
    {
     "name": "stdout",
     "output_type": "stream",
     "text": [
      "[4, 5, 1, 2, 3]\n"
     ]
    }
   ],
   "source": [
    "def shift_list(lst,k):\n",
    "    lst1 = []\n",
    "    for i in range(k):\n",
    "        a = lst.pop()\n",
    "        lst1.append(a)\n",
    "    lst1.sort()\n",
    "    lst1 = lst1+lst\n",
    "    return lst1\n",
    "print(shift_list([1,2,3,4,5],2))"
   ]
  },
  {
   "cell_type": "code",
   "execution_count": null,
   "id": "2361b085",
   "metadata": {},
   "outputs": [],
   "source": []
  }
 ],
 "metadata": {
  "kernelspec": {
   "display_name": "Python 3 (ipykernel)",
   "language": "python",
   "name": "python3"
  },
  "language_info": {
   "codemirror_mode": {
    "name": "ipython",
    "version": 3
   },
   "file_extension": ".py",
   "mimetype": "text/x-python",
   "name": "python",
   "nbconvert_exporter": "python",
   "pygments_lexer": "ipython3",
   "version": "3.12.3"
  }
 },
 "nbformat": 4,
 "nbformat_minor": 5
}
