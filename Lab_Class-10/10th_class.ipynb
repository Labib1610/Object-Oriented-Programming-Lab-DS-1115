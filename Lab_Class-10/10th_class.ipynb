{
 "cells": [
  {
   "cell_type": "markdown",
   "id": "099a4206",
   "metadata": {},
   "source": [
    "# Decorators"
   ]
  },
  {
   "cell_type": "code",
   "execution_count": 1,
   "id": "362a23b7",
   "metadata": {},
   "outputs": [],
   "source": [
    "def decorator(func):\n",
    "    def wrapper():\n",
    "        print('Something that happens before target')\n",
    "        func()\n",
    "        print('Something that happens after target')\n",
    "    return wrapper"
   ]
  },
  {
   "cell_type": "code",
   "execution_count": 2,
   "id": "f984540b",
   "metadata": {},
   "outputs": [
    {
     "name": "stdout",
     "output_type": "stream",
     "text": [
      "Something that happens before target\n",
      "I am a target function\n",
      "Something that happens after target\n"
     ]
    }
   ],
   "source": [
    "def target():\n",
    "    print('I am a target function')\n",
    "target = decorator(target)\n",
    "target()"
   ]
  },
  {
   "cell_type": "code",
   "execution_count": 3,
   "id": "f9001389",
   "metadata": {},
   "outputs": [
    {
     "data": {
      "text/plain": [
       "<function __main__.decorator.<locals>.wrapper()>"
      ]
     },
     "execution_count": 3,
     "metadata": {},
     "output_type": "execute_result"
    }
   ],
   "source": [
    "target"
   ]
  },
  {
   "cell_type": "code",
   "execution_count": 4,
   "id": "3a5bb2fc",
   "metadata": {},
   "outputs": [
    {
     "name": "stdout",
     "output_type": "stream",
     "text": [
      "Not now. The neighbours are sleeping!\n"
     ]
    }
   ],
   "source": [
    "from datetime import datetime\n",
    "\n",
    "def not_during_the_night(func):\n",
    "    def wrapper():\n",
    "        if 7<= datetime.now().hour < 22:\n",
    "            func()\n",
    "        else:\n",
    "            print('Not now. The neighbours are sleeping!')\n",
    "    return wrapper\n",
    "\n",
    "\n",
    "\n",
    "def target():\n",
    "    print('Play music')\n",
    "    \n",
    "target = not_during_the_night(target)\n",
    "target()"
   ]
  },
  {
   "cell_type": "markdown",
   "id": "469d0f34",
   "metadata": {},
   "source": [
    "Using syntax"
   ]
  },
  {
   "cell_type": "code",
   "execution_count": 5,
   "id": "2f0862ab",
   "metadata": {},
   "outputs": [
    {
     "name": "stdout",
     "output_type": "stream",
     "text": [
      "Something that happens before target\n",
      "Something that happens before target\n",
      "I am a target function\n",
      "Something that happens after target\n",
      "Something that happens after target\n"
     ]
    }
   ],
   "source": [
    "def decorator(func):\n",
    "    def wrapper():\n",
    "        print('Something that happens before target')\n",
    "        func()\n",
    "        print('Something that happens after target')\n",
    "    return wrapper\n",
    "\n",
    "@decorator\n",
    "@decorator\n",
    "def target():\n",
    "    print('I am a target function')\n",
    "    \n",
    "target()"
   ]
  },
  {
   "cell_type": "code",
   "execution_count": 7,
   "id": "f9385b42",
   "metadata": {},
   "outputs": [
    {
     "name": "stdout",
     "output_type": "stream",
     "text": [
      "Play music\n"
     ]
    }
   ],
   "source": [
    "from datetime import datetime\n",
    "\n",
    "def not_during_the_night(func):\n",
    "    def wrapper():\n",
    "        if 7<= datetime.now().hour < 22:\n",
    "            func()\n",
    "        else:\n",
    "            print('Not now. The neighbours are sleeping!')\n",
    "    return wrapper\n",
    "\n",
    "\n",
    "@not_during_the_night\n",
    "def target():\n",
    "    print('Play music')\n",
    "\n",
    "target()"
   ]
  },
  {
   "cell_type": "code",
   "execution_count": 14,
   "id": "d32ccd4d",
   "metadata": {},
   "outputs": [
    {
     "name": "stdout",
     "output_type": "stream",
     "text": [
      "Hello\n",
      "Hello\n",
      "Hello! labib\n",
      "Hello! labib\n"
     ]
    }
   ],
   "source": [
    "# Build a decorator named do_twice() that execute the target twice\n",
    "\n",
    "\n",
    "def do_twice(func):\n",
    "    def wrapper(*args, **kwargs):\n",
    "        for i in range(2):\n",
    "            func(*args, **kwargs)\n",
    "    return wrapper\n",
    "\n",
    "\n",
    "@do_twice\n",
    "def target():\n",
    "    print('Hello')\n",
    "    \n",
    "@do_twice    \n",
    "def greet(name):\n",
    "    print(f\"Hello! {name}\")\n",
    "    \n",
    "target()\n",
    "greet(name = \"labib\")"
   ]
  },
  {
   "cell_type": "markdown",
   "id": "37d28895",
   "metadata": {},
   "source": [
    "Returnable function\n"
   ]
  },
  {
   "cell_type": "code",
   "execution_count": 6,
   "id": "7294ea4c",
   "metadata": {},
   "outputs": [
    {
     "name": "stdout",
     "output_type": "stream",
     "text": [
      "None\n"
     ]
    }
   ],
   "source": [
    "def decorator(func):\n",
    "    def wrapper(*args, **kwargs):\n",
    "        func(*args, **kwargs)\n",
    "    return wrapper\n",
    "\n",
    "@decorator\n",
    "def return_greeting(name):\n",
    "    return f'Hi! {name}'\n",
    "\n",
    "print(return_greeting('Labib'))"
   ]
  },
  {
   "cell_type": "code",
   "execution_count": 7,
   "id": "f1c9037d",
   "metadata": {},
   "outputs": [
    {
     "name": "stdout",
     "output_type": "stream",
     "text": [
      "Hi! Labib\n"
     ]
    }
   ],
   "source": [
    "def decorator(func):\n",
    "    def wrapper(*args, **kwargs):\n",
    "        return func(*args, **kwargs)\n",
    "    return wrapper\n",
    "\n",
    "@decorator\n",
    "def return_greeting(name):\n",
    "    \"\"\"This is return_greeting function\"\"\"\n",
    "    return f'Hi! {name}'\n",
    "\n",
    "print(return_greeting('Labib'))"
   ]
  },
  {
   "cell_type": "code",
   "execution_count": 26,
   "id": "8f0ba15b",
   "metadata": {},
   "outputs": [
    {
     "name": "stdout",
     "output_type": "stream",
     "text": [
      "Help on function wrapper in module __main__:\n",
      "\n",
      "wrapper(*args, **kwargs)\n",
      "\n"
     ]
    }
   ],
   "source": [
    "help(return_greeting)"
   ]
  },
  {
   "cell_type": "code",
   "execution_count": 24,
   "id": "a4c6e463",
   "metadata": {},
   "outputs": [
    {
     "name": "stdout",
     "output_type": "stream",
     "text": [
      "    def wrapper(*args, **kwargs):\n",
      "        return func(*args, **kwargs)\n",
      "\n"
     ]
    }
   ],
   "source": [
    "import inspect \n",
    "y = inspect.getsource(return_greeting)\n",
    "print(y)"
   ]
  },
  {
   "cell_type": "code",
   "execution_count": 34,
   "id": "4d4f36d8",
   "metadata": {},
   "outputs": [
    {
     "name": "stdout",
     "output_type": "stream",
     "text": [
      "Help on function greet in module __main__:\n",
      "\n",
      "greet(name)\n",
      "    This is me\n",
      "\n"
     ]
    }
   ],
   "source": [
    "import functools\n",
    "\n",
    "def decorator(func):\n",
    "    @functools.wraps(func)\n",
    "    def wrapper(*args, **kwargs):\n",
    "        func(*args, **kwargs)\n",
    "    return wrapper\n",
    "\n",
    "@decorator\n",
    "def greet(name):\n",
    "    \"\"\"This is me\"\"\"\n",
    "    return f'Hi! {name}'\n",
    "\n",
    "help(greet)"
   ]
  },
  {
   "cell_type": "markdown",
   "id": "19fd6b49",
   "metadata": {},
   "source": [
    "# Use Case 1: Timing"
   ]
  },
  {
   "cell_type": "code",
   "execution_count": 37,
   "id": "f94dd7cb",
   "metadata": {},
   "outputs": [
    {
     "name": "stdout",
     "output_type": "stream",
     "text": [
      "Finished: waste_some_time() in 0.0000 seconds\n"
     ]
    }
   ],
   "source": [
    "import functools\n",
    "import time\n",
    "\n",
    "\n",
    "def timer(func):\n",
    "    @functools.wraps(func)\n",
    "    def wrapper(*args, **kwargs):\n",
    "        start_time = time.perf_counter()\n",
    "        value = func(*args, **kwargs)\n",
    "        end_time = time.perf_counter()\n",
    "        run_time = end_time - start_time\n",
    "        print(f'Finished: {func.__name__}() in {run_time:.4f} seconds')\n",
    "        # return value\n",
    "    return wrapper\n",
    "\n",
    "@timer\n",
    "def waste_some_time(num_times):\n",
    "    for _ in range(num_times):\n",
    "        sum([number for number in range(10)])\n",
    "        \n",
    "waste_some_time(10)"
   ]
  },
  {
   "cell_type": "markdown",
   "id": "6f0b5d25",
   "metadata": {},
   "source": [
    "# Generator"
   ]
  },
  {
   "cell_type": "code",
   "execution_count": 42,
   "id": "77b7a986",
   "metadata": {},
   "outputs": [
    {
     "name": "stdout",
     "output_type": "stream",
     "text": [
      "1\n",
      "3\n",
      "for loop starts:\n",
      "4\n",
      "5\n",
      "6\n",
      "7\n",
      "8\n",
      "9\n",
      "10\n"
     ]
    }
   ],
   "source": [
    "x = [1,2,3,4,5,6,7,8,9,10]\n",
    "y = map(lambda i:i, x)\n",
    "\n",
    "print(next(y))\n",
    "next(y)\n",
    "print(next(y))\n",
    "\n",
    "print('for loop starts:')\n",
    "for i in y:\n",
    "    print(i)"
   ]
  },
  {
   "cell_type": "code",
   "execution_count": 41,
   "id": "d0460131",
   "metadata": {},
   "outputs": [
    {
     "name": "stdout",
     "output_type": "stream",
     "text": [
      "Size of the list: 136\n",
      "Size of the generator: 48\n"
     ]
    }
   ],
   "source": [
    "import sys\n",
    "print(f'Size of the list: {sys.getsizeof(x)}')\n",
    "print(f'Size of the generator: {sys.getsizeof(y)}')"
   ]
  },
  {
   "cell_type": "code",
   "execution_count": 43,
   "id": "8b87a26b",
   "metadata": {},
   "outputs": [
    {
     "name": "stdout",
     "output_type": "stream",
     "text": [
      "0\n"
     ]
    }
   ],
   "source": [
    "def gen(x):\n",
    "    for i in range(x):\n",
    "        return i\n",
    "    \n",
    "x = gen(5)\n",
    "print(x)"
   ]
  },
  {
   "cell_type": "code",
   "execution_count": 44,
   "id": "417dc2a4",
   "metadata": {},
   "outputs": [
    {
     "name": "stdout",
     "output_type": "stream",
     "text": [
      "<generator object gen at 0x000002258AE8DCB0>\n"
     ]
    }
   ],
   "source": [
    "def gen(x):\n",
    "    for i in range(x):\n",
    "        yield i\n",
    "    \n",
    "x = gen(5)\n",
    "print(x)"
   ]
  },
  {
   "cell_type": "markdown",
   "id": "10130344",
   "metadata": {},
   "source": [
    "# Use case\n"
   ]
  },
  {
   "cell_type": "code",
   "execution_count": 48,
   "id": "f0d9e0e6",
   "metadata": {},
   "outputs": [
    {
     "name": "stdout",
     "output_type": "stream",
     "text": [
      "Bump\n"
     ]
    }
   ],
   "source": [
    "def reader(file_name):\n",
    "    for row in open(file_name,'r'):\n",
    "        yield row\n",
    "        \n",
    "x = reader('sample.txt')\n",
    "for row in x:\n",
    "    if 'oop' in row:\n",
    "        print('Bump')\n",
    "        break"
   ]
  },
  {
   "cell_type": "markdown",
   "id": "7d0a3df7",
   "metadata": {},
   "source": [
    "# Task - 1"
   ]
  },
  {
   "cell_type": "code",
   "execution_count": 54,
   "id": "046c996a",
   "metadata": {},
   "outputs": [
    {
     "name": "stdout",
     "output_type": "stream",
     "text": [
      "Function name: add\n",
      "Arguments: (3,), {'b': 5}\n",
      "Return Value: 8\n"
     ]
    }
   ],
   "source": [
    "def log_args_and_return(func):\n",
    "    def wrapper(*args, **kwargs):\n",
    "        y = func(*args, **kwargs)\n",
    "        print(f'Function name: {func.__name__}')\n",
    "        print(f\"Arguments: {args}, {kwargs}\")\n",
    "        print(f'Return Value: {y}')\n",
    "    return wrapper\n",
    "\n",
    "@log_args_and_return\n",
    "def add(a, b):\n",
    "    return a+b\n",
    "\n",
    "result = add(3,b=5)"
   ]
  },
  {
   "cell_type": "code",
   "execution_count": null,
   "id": "2b68c91c",
   "metadata": {},
   "outputs": [],
   "source": []
  }
 ],
 "metadata": {
  "kernelspec": {
   "display_name": "Python 3",
   "language": "python",
   "name": "python3"
  },
  "language_info": {
   "codemirror_mode": {
    "name": "ipython",
    "version": 3
   },
   "file_extension": ".py",
   "mimetype": "text/x-python",
   "name": "python",
   "nbconvert_exporter": "python",
   "pygments_lexer": "ipython3",
   "version": "3.11.9"
  }
 },
 "nbformat": 4,
 "nbformat_minor": 5
}
